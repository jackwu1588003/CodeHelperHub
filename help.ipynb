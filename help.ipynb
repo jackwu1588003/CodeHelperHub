{
 "cells": [
  {
   "cell_type": "code",
   "execution_count": null,
   "id": "initial_id",
   "metadata": {
    "collapsed": true
   },
   "outputs": [],
   "source": []
  },
  {
   "cell_type": "code",
   "execution_count": 7,
   "outputs": [
    {
     "name": "stdout",
     "output_type": "stream",
     "text": [
      "您投入的金額為: 10\n",
      "您輸入的數字為: 2\n",
      "您的金額不足以購買所選商品。\n"
     ]
    }
   ],
   "source": [
    "\n",
    "# 商品價格字典\n",
    "products = {\n",
    "    1: {\"name\": \"可樂\", \"price\": 20},\n",
    "    2: {\"name\": \"雪碧\", \"price\": 25},\n",
    "    3: {\"name\": \"沙士\", \"price\": 30},\n",
    "    4: {\"name\": \"可樂果\", \"price\": 15},\n",
    "    5: {\"name\": \"蝦味先\", \"price\": 10}\n",
    "}\n",
    "\n",
    "## user task\n",
    "while True:\n",
    "    try:\n",
    "        input_money = int(input(\"請輸入投入金額:\"))\n",
    "        break\n",
    "    except ValueError:\n",
    "        print(\"請輸入一個有效的整數。\")\n",
    "\n",
    "while True:\n",
    "    try:\n",
    "        selected_product = int(input(\"請輸入介於1到5之間的數字：\"))\n",
    "        if selected_product >= 1 and selected_product <= 5:\n",
    "            break\n",
    "        else:\n",
    "            print(\"輸入的數字不在範圍內，請重新輸入。\")\n",
    "    except ValueError:\n",
    "        print(\"請輸入一個有效的整數。\")\n",
    "\n",
    "print(f\"您投入的金額為: {input_money}\")\n",
    "print(f\"您輸入的數字為: {selected_product}\")\n",
    "\n",
    "# 銅板面額\n",
    "coins = [50, 10, 5, 1]\n",
    "\n",
    "# 檢查使用者選擇的商品是否在商品列表中\n",
    "if selected_product in products:\n",
    "    product_info = products[selected_product]\n",
    "    product_name = product_info[\"name\"]\n",
    "    product_price = product_info[\"price\"]\n",
    "    \n",
    "    if input_money >= product_price:\n",
    "        change = input_money - product_price\n",
    "        print(f\"您選擇了商品{selected_product} - {product_name}，價格為{product_price}，找零為NT{change}。\")\n",
    "        \n",
    "        # 計算銅板數量\n",
    "        coin_counts = {}\n",
    "        for coin in coins:\n",
    "            count = change // coin\n",
    "            if count > 0:\n",
    "                change -= count * coin\n",
    "                coin_counts[f\"{coin}元\"] = count\n",
    "        \n",
    "        # 顯示找回的銅板數量\n",
    "        for coin, count in coin_counts.items():\n",
    "            print(f\"找回{coin} x {count}\")\n",
    "    else:\n",
    "        print(\"您的金額不足以購買所選商品。\")\n",
    "else:\n",
    "    print(\"您選擇的商品不在商品列表中。\")\n",
    "\n"
   ],
   "metadata": {
    "collapsed": false,
    "ExecuteTime": {
     "end_time": "2023-11-06T02:26:23.729627Z",
     "start_time": "2023-11-06T02:26:19.793068Z"
    }
   },
   "id": "67123ff41098f73b"
  }
 ],
 "metadata": {
  "kernelspec": {
   "display_name": "Python 3",
   "language": "python",
   "name": "python3"
  },
  "language_info": {
   "codemirror_mode": {
    "name": "ipython",
    "version": 2
   },
   "file_extension": ".py",
   "mimetype": "text/x-python",
   "name": "python",
   "nbconvert_exporter": "python",
   "pygments_lexer": "ipython2",
   "version": "2.7.6"
  }
 },
 "nbformat": 4,
 "nbformat_minor": 5
}
